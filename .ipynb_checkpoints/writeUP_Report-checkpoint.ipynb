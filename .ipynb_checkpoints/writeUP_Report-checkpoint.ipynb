{
 "cells": [
  {
   "cell_type": "markdown",
   "metadata": {},
   "source": [
    "# **Finding Lane Lines on the Road** \n",
    "\n",
    "## Writeup \n",
    "\n",
    "\n",
    "\n",
    "---\n",
    "\n",
    "**Finding Lane Lines on the Road**\n",
    "\n",
    "The goals / steps of this project are the following:\n",
    "* Make a pipeline that finds lane lines on the road\n",
    "* Reflect on your work in a written report!\n",
    "\n",
    "\n",
    "[//]: # (Image References)\n",
    "\n",
    "[image1]: ./test_images/gray_solidWhiteRight.jpg \"Grayscale\"\n",
    "[image2]: ./test_images/canny_solidWhiteRight.jpg \"canny\"\n",
    "\n",
    "\n",
    "---\n",
    "\n"
   ]
  },
  {
   "cell_type": "markdown",
   "metadata": {},
   "source": [
    "![alt text](./test_images/solidWhiteRight.jpg \"Original image\")\n"
   ]
  },
  {
   "cell_type": "markdown",
   "metadata": {},
   "source": [
    "### Reflection\n",
    "\n",
    "### 1. Description of my pipeline.\n",
    "\n",
    "My pipeline consisted of 6 steps. First, I applied converted the images to grayscale, second I applied a gaussian_blur with a kernel of size 5, third I applied a canny filter, fourth I applied a ROI on the canny image image, fifth I applied the houghLinesP algorithm over on the canny image, and I drew the lines over the original image and sixth I merged all the lines into just two left and right lines.\n",
    "\n",
    "\n",
    "\n",
    "\n"
   ]
  },
  {
   "cell_type": "markdown",
   "metadata": {},
   "source": [
    "#### 1.1 First step grayscale \n",
    "The original image above, is converted to grayscale."
   ]
  },
  {
   "cell_type": "markdown",
   "metadata": {},
   "source": [
    "![alt text](./test_images/gray_solidWhiteRight.jpg \"Grayscaled image\")\n"
   ]
  },
  {
   "cell_type": "markdown",
   "metadata": {},
   "source": [
    "#### 1.2 Gaussian Blur.\n",
    "Although the canny filter has a filter with kernel 5 included, a prior gaussian_blur filter is applied with a kernel size of 5 to remove more noise in the image and keep just the strong edges\n",
    "\n",
    "![alt text](./test_images/blur_solidWhiteRight.jpg \"Blur image\")\n"
   ]
  },
  {
   "cell_type": "markdown",
   "metadata": {},
   "source": [
    "#### 1.3 Canny filter.\n",
    "Then the canny filter is applied with the following parameters:\n",
    "\n",
    " - Low threshold=20\n",
    " - High threshold=60\n",
    " \n",
    " The parameters were chosen after some iterations, because they gave the best results, and the ratio 1:3 suggested was respected\n",
    " \n",
    " \n",
    " ![alt text](./test_images/canny_solidWhiteRight.jpg \"Canny image\")"
   ]
  },
  {
   "cell_type": "markdown",
   "metadata": {},
   "source": [
    "#### 1.4 ROI MASK.\n",
    "\n",
    "A region of interest with the form of an Isosceles Trapezoid is chosen: \n",
    "\n",
    "The bottom of the trapezoid is in the y coordinate y=ysize. \n",
    "\n",
    "The bottom x coordinates are located in x=1/15*xsize and x=14/15*xsize.\n",
    "\n",
    "the top of the trapezoid is  located  in y= 8/14*ysize \n",
    "\n",
    "The top x coordinates are located in x=xsize/2-xsize/80 and x=xsize/2-xsize/80 respetively.\n",
    " \n",
    "Finally these coordinates compound the vertices that feed the fillPoly function to create the ROI.\n",
    " \n",
    " \n",
    " ![alt text](./test_images/roi_solidWhiteRight.jpg \"Roi image\")"
   ]
  },
  {
   "cell_type": "markdown",
   "metadata": {},
   "source": [
    "#### 1.5 Hough Lines.\n",
    "\n",
    "Afterwards, the probabilistic hough Lines function was applied to the result above. \n",
    "\n",
    "The resolution parameters were chosen to be rho = 1 and theta = pi/180 (one degree)\n",
    "\n",
    "The other parameters were chosen to be dependent on the height of the figures.\n",
    "\n",
    "threshold=int(ysize/40)\n",
    "\n",
    "min_line_len=int(ysize/30)\n",
    "\n",
    "max_line_gap=int(ysize/100)\n",
    "\n",
    "They were chosen after some trial and error, starting from values intuitively right. For example, if the height is 540, the max_gap is 5, the min line length is 18 and the min number of votes is 13.\n",
    "\n",
    "\n",
    "The resultant hough lines were drawn in the original image with the weighted_img function provided by Udacity.\n",
    "\n",
    " \n",
    " ![alt text](./test_images/houghLinesOverImage_solidWhiteRight.jpg \"Hough Lines image\")\n"
   ]
  },
  {
   "cell_type": "markdown",
   "metadata": {},
   "source": [
    "#### 1.6 Extrapolate and merge Hough Lines\n",
    "\n",
    "In the image above, there are too much red lines.It would be better to create just one line in the left and another in the right, so, the draw lines function is modified, first to receive a boolean parameter \"average_lines\" if this is true, the lines are merged into junst one line, calling the function extrapolate_lines.\n",
    "\n",
    "\n",
    "this extrapolate_lines function receives two list arguments and the ysize and then it extrapolates the left and right lines:\n",
    "\n",
    "\n",
    "Inputs:\n",
    "\n",
    "slopes: List with the slopes of all the lines found by hough\n",
    "\n",
    "intercepts: List with the intercepts of all the lines found by hough\n",
    "\n",
    "\n",
    "Outputs:\n",
    "\n",
    "lines_exist: A boolean that is False if there are not enough lines to extra, so they can't be draw.\n",
    "\n",
    "\n",
    "line_coords: if line_exist = True, line_coords is a list with 4 points, the x,y coordinates of the points to draw the lines in the order:\n",
    "                   \n",
    "                   [(x1_line1,y1_line1),(x2_line1,y2_line1),(x1_line2,y1_line2),(x2_line2,y2_line2)]\n",
    "\n",
    "    \n",
    "#### Steps: \n",
    "\n",
    "\n",
    "-All line slopes and its corresponding intercepts are appended to two list in the draw_lines function. (slopes and intercepts lists). But this only occurs for the slopes greater than 0.5 and slopes less than -0.5.\n",
    "\n",
    "-The draw function calls the extrapolate_lines function.\n",
    "    \n",
    "    - It takes the index of the slopes list where slope values are possitive.\n",
    "        with that information, it creates two lists, slopes_positives and its corresponding_intercepts.\n",
    "    - It takes the index of the list where slope values are negative.\n",
    "        with that information, it creates two lists, slopes_positives and its corresponding_intercepts.\n",
    "        \n",
    "        -If there are less than two negative lines, or less than two positve lines it returns an empty \n",
    "        list in line_coords  and a false lines_exist boolean.\n",
    "\n",
    "        -Otherwise, it computes the median of the slopes negatives and the median of its interceps, given \n",
    "        the parameters for the left line, and it also computes the median of the slopes positives and the\n",
    "        median of its interceps, given the parameters for the left line.\n",
    "\n",
    "        -Median was chosen because the mean is sensitive to outliers.\n",
    "        \n",
    "        -It evalutes x=f(y) x=(y-b)/m in the top and bottom y values of the ROI, and for the two line functions\n",
    "        (left and right line), obtaning the 2D coordinates of the four points required to draw the left and right lines. \n",
    "        -The output if the lines exist is a list with 4 elements, each corresponding to a point. The first two, are\n",
    "        required \n",
    "        for the left line, and the last two are for the right line. \n",
    "        \n",
    "        [(x1_line1,y1_line1),(x2_line1,y2_line1),(x1_line2,y1_line2),(x2_line2,y2_line2)]\n",
    "\n",
    "\n",
    "Finally, the lines are drawn using the draw_lines function, and this image is combined with the original image.\n",
    " \n",
    " ![alt text](./test_images/mergedLinesOverImage_solidWhiteRight.jpg \"Merged Lines image\")"
   ]
  },
  {
   "cell_type": "markdown",
   "metadata": {},
   "source": [
    "### 2. Potential shortcomings with the current pipeline\n",
    "\n",
    "\n",
    "One potential shortcoming would happen if, in the 1.6 section, the hough lines algorithm detects more lines in the road that the quantity on real lane lines that it detects, in this case, the median of the slopes would be a very different value of the expected.\n",
    "\n",
    "Another potential shortcoming would be in the sharp curves, the hough lines could detect actual lane lines but these could have really different slope values and the median could be a not accurate value.\n",
    "\n"
   ]
  },
  {
   "cell_type": "markdown",
   "metadata": {},
   "source": [
    "### 3. Possible improvements to your pipeline\n",
    "\n",
    "A possible improvement would be to restrict more the intervale of the accepted slopes to get just the actual lane lines.\n",
    "\n",
    "Another potential improvement could be to modify the contrast of the image in some frames to avoid the error when there are shadows in the road.\n",
    "\n",
    "\n",
    "A detection of curves, would be much more efficient.\n",
    "\n",
    "A camera calibration, maybe could help with the remotion of not desired objects like the hood of the car in the optional challange. "
   ]
  },
  {
   "cell_type": "code",
   "execution_count": null,
   "metadata": {},
   "outputs": [],
   "source": []
  }
 ],
 "metadata": {
  "kernelspec": {
   "display_name": "Python 3",
   "language": "python",
   "name": "python3"
  },
  "language_info": {
   "codemirror_mode": {
    "name": "ipython",
    "version": 3
   },
   "file_extension": ".py",
   "mimetype": "text/x-python",
   "name": "python",
   "nbconvert_exporter": "python",
   "pygments_lexer": "ipython3",
   "version": "3.6.3"
  }
 },
 "nbformat": 4,
 "nbformat_minor": 2
}
