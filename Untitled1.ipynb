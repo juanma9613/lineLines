{
 "cells": [
  {
   "attachments": {},
   "cell_type": "markdown",
   "metadata": {},
   "source": [
    "# **Finding Lane Lines on the Road** \n",
    "\n",
    "## Writeup \n",
    "\n",
    "\n",
    "\n",
    "---\n",
    "\n",
    "**Finding Lane Lines on the Road**\n",
    "\n",
    "The goals / steps of this project are the following:\n",
    "* Make a pipeline that finds lane lines on the road\n",
    "* Reflect on your work in a written report!\n",
    "\n",
    "\n",
    "[//]: # (Image References)\n",
    "\n",
    "[image1]: ./test_images/gray_solidWhiteRight.jpg \"Grayscale\"\n",
    "[image2]: ./test_images/canny_solidWhiteRight.jpg \"canny\"\n",
    "\n",
    "\n",
    "---\n",
    "\n"
   ]
  },
  {
   "cell_type": "markdown",
   "metadata": {},
   "source": [
    "![alt text](./test_images/solidWhiteRight.jpg \"Original image\")\n"
   ]
  },
  {
   "cell_type": "markdown",
   "metadata": {},
   "source": [
    "### Reflection\n",
    "\n",
    "### 1. Description of my pipeline.\n",
    "\n",
    "My pipeline consisted of 6 steps. First, I applied converted the images to grayscale, second I applied a gaussian_blur with a kernel of size 5, third, I applied a canny filter, fourth, I applied a roi on the canny image image, fifth I applied the houghLinesP algorithm over on the canny image, and I drew the lines over the original image and sixth I merged all the lines into just two left and right lines.\n",
    "\n",
    "\n",
    "\n",
    "\n"
   ]
  },
  {
   "cell_type": "markdown",
   "metadata": {},
   "source": [
    "#### 1.1 First step grayscale \n",
    "The original image above, is converted to grayscale."
   ]
  },
  {
   "cell_type": "markdown",
   "metadata": {},
   "source": [
    "![alt text](./test_images/gray_solidWhiteRight.jpg \"Grayscaled image\")\n"
   ]
  },
  {
   "cell_type": "markdown",
   "metadata": {},
   "source": [
    "#### 1.2 Gaussian Blur.\n",
    "Although the canny filter has a filter with kernel 5 included, a prior gaussian_blur filter is applied with a kernel size of 5 to remove more noise in the image and keep just the strong edges\n",
    "\n",
    "![alt text](./test_images/blur_solidWhiteRight.jpg \"Blur image\")\n"
   ]
  },
  {
   "cell_type": "markdown",
   "metadata": {},
   "source": [
    "#### 1.3 Canny filter.\n",
    "Then the canny filter is applied with the following parameters:\n",
    "\n",
    " - Low threshold=20\n",
    " - High threshold=60\n",
    " \n",
    " The parameters were chosen after some iterations, because they gave the best results, and the ratio 1:3 was respected\n",
    " \n",
    " \n",
    " ![alt text](./test_images/canny_solidWhiteRight.jpg \"Canny image\")"
   ]
  },
  {
   "cell_type": "markdown",
   "metadata": {},
   "source": [
    "#### 1.4 ROI MASK.\n",
    "\n",
    "A region of interest is chosen, this is a Isosceles Trapezoid region, \n",
    "\n",
    " - Low threshold=20\n",
    " - High threshold=60\n",
    " \n",
    " The parameters were chosen after some iterations, because they gave the best results, and the ratio 1:3 was respected\n",
    " \n",
    " \n",
    " ![alt text](./test_images/roi_solidWhiteRight.jpg \"Roi image\")"
   ]
  },
  {
   "cell_type": "markdown",
   "metadata": {},
   "source": [
    "#### 1.5 Hough Lines.\n",
    "\n",
    "A region of interest is chosen, this is a Isosceles Trapezoid region, \n",
    "\n",
    " - Low threshold=20\n",
    " - High threshold=60\n",
    " \n",
    " The parameters were chosen after some iterations, because they gave the best results, and the ratio 1:3 was respected\n",
    " \n",
    " \n",
    " ![alt text](./test_images/houghLinesOverImage_solidWhiteRight.jpg \"Hough Lines image\")\n"
   ]
  },
  {
   "cell_type": "markdown",
   "metadata": {},
   "source": [
    "#### 1.6 Extrapolate and merge Hough Lines\n",
    "\n",
    "A region of interest is chosen, this is a Isosceles Trapezoid region, \n",
    "\n",
    " - Low threshold=20\n",
    " - High threshold=60\n",
    " \n",
    " The parameters were chosen after some iterations, because they gave the best results, and the ratio 1:3 was respected\n",
    " \n",
    " \n",
    " ![alt text](./test_images/mergedLinesOverImage_solidWhiteRight.jpg \"Merged Lines image\")"
   ]
  },
  {
   "cell_type": "code",
   "execution_count": null,
   "metadata": {},
   "outputs": [],
   "source": []
  },
  {
   "cell_type": "code",
   "execution_count": null,
   "metadata": {},
   "outputs": [],
   "source": []
  },
  {
   "cell_type": "code",
   "execution_count": null,
   "metadata": {},
   "outputs": [],
   "source": []
  }
 ],
 "metadata": {
  "kernelspec": {
   "display_name": "Python 3",
   "language": "python",
   "name": "python3"
  },
  "language_info": {
   "codemirror_mode": {
    "name": "ipython",
    "version": 3
   },
   "file_extension": ".py",
   "mimetype": "text/x-python",
   "name": "python",
   "nbconvert_exporter": "python",
   "pygments_lexer": "ipython3",
   "version": "3.6.3"
  }
 },
 "nbformat": 4,
 "nbformat_minor": 2
}
